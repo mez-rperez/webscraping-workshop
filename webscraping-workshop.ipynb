{
 "cells": [
  {
   "cell_type": "code",
   "execution_count": 1,
   "metadata": {},
   "outputs": [],
   "source": [
    "import requests\n",
    "from bs4 import BeautifulSoup\n",
    "import pandas as pd"
   ]
  },
  {
   "cell_type": "code",
   "execution_count": 2,
   "metadata": {},
   "outputs": [],
   "source": [
    "# create a dictionary for links to wayback machine that I will scrape (urls)\n",
    "# this code is for working with wayback machine from 2014-2019\n",
    "\n",
    "urls = {\n",
    "    \"2014\":'https://web.archive.org/web/20140602022834/http://www.spacex.com/careers/list',\n",
    "    \"2015\":'https://web.archive.org/web/20150607064025/http://www.spacex.com:80/careers/list',\n",
    "    \"2016\":'https://web.archive.org/web/20160608061222/http://www.spacex.com:80/careers/list',\n",
    "    \"2017\":'https://web.archive.org/web/20170609025251/http://www.spacex.com:80/careers/list',\n",
    "    \"2018\":'https://web.archive.org/web/20180610152924/http://www.spacex.com:80/careers/list'\n",
    "}"
   ]
  },
  {
   "cell_type": "code",
   "execution_count": 3,
   "metadata": {},
   "outputs": [],
   "source": [
    "# gets the title of the job\n",
    "def find_title(job):\n",
    "    title = job.find('a').text\n",
    "    return title"
   ]
  },
  {
   "cell_type": "code",
   "execution_count": 4,
   "metadata": {},
   "outputs": [],
   "source": [
    "# gets the location of the job in the form of a dictionary \n",
    "def find_location(job):\n",
    "    location = job.find(class_ =\"field field-name-field-job-location field-type-taxonomy-term-reference field-label-hidden\").text\n",
    "    location = location.split()\n",
    "    location = {\n",
    "        \"city\":location[0].split(',')[0],\n",
    "        \"state\":location[1].split(',')[0],\n",
    "        \"country\":' '.join(location[2:])\n",
    "    }\n",
    "    return location"
   ]
  },
  {
   "cell_type": "code",
   "execution_count": 5,
   "metadata": {},
   "outputs": [],
   "source": [
    "# gets the link to the job posting\n",
    "def find_job_link(job):\n",
    "    job_link = job.find('a', href=True)\n",
    "    return job_link['href']"
   ]
  },
  {
   "cell_type": "code",
   "execution_count": 6,
   "metadata": {},
   "outputs": [],
   "source": [
    "# gets job requirement info from the link\n",
    "def find_job_information(job_link):\n",
    "    # for each year, get the url...\n",
    "    response = requests.get(job_link)\n",
    "    soup = BeautifulSoup(response.text, 'html.parser')\n",
    "\n",
    "    # get the job table from that year...\n",
    "    job_information = soup.find( class_ = \"details\")\n",
    "    return job_information\n",
    "\n",
    "#find_job_information('/web/20140602022834/http://www.spacex.com/careers/position/4653')"
   ]
  },
  {
   "cell_type": "code",
   "execution_count": 7,
   "metadata": {},
   "outputs": [],
   "source": [
    "# Comments from the stack overflow post I adapted this from\n",
    "#  the first argument to find tells it what tag to search for\n",
    "#  the second you can pass a dict of attr->value pairs to filter\n",
    "#  results that match the first tag\n",
    "#  now rows contains each tr in the table (as a BeautifulSoup object)\n",
    "#  and you can search them to pull out the times\n",
    "\n",
    "# job_dict should be global, it will contain the info for 2014-2019\n",
    "# job_number is made up for the purposes of this script, it is NOT the actual job number\n",
    "job_dict={}\n",
    "job_number=0\n",
    "\n",
    "# the year is the key\n",
    "for year in urls:\n",
    "    # for each year, get the url...\n",
    "    response = requests.get(urls[year])\n",
    "    soup = BeautifulSoup(response.text, 'html.parser')\n",
    "\n",
    "    # get the job table from that year...\n",
    "    job_table = soup.find( class_ = \"view-content\")\n",
    "\n",
    "    # and then make a rough table of each of the posts\n",
    "    jobs=list()\n",
    "    for job in job_table.findAll(\"tr\"):\n",
    "       jobs.append(job)\n",
    "    \n",
    "    # then, process them using the functions written earlier to find the \n",
    "    # job link, location, and job title for every element in the table\n",
    "    for job in jobs:\n",
    "        job_dict[job_number] = dict(\n",
    "            job_title = find_title(job),\n",
    "            job_location_city=find_location(job)[\"city\"], \n",
    "            job_location_state=find_location(job)[\"state\"], \n",
    "            job_location_country=find_location(job)[\"country\"], \n",
    "            #job_link=find_job_link(job),\n",
    "            #job_information=find_job_information('https://web.archive.org'+find_job_link(job)),\n",
    "            job_post_year=year\n",
    "                                        )\n",
    "        job_number+=1\n",
    "        \n",
    "    # add in the job information for each one, since the link needs to be there\n",
    "    #job_number = 0\n",
    "    \n",
    "    #for job in jobs:\n",
    "   #     job_dict[job_number][job_information]=find_job_information('https://web.archive.org'+job_dict[job_number][job_link])\n",
    "        \n",
    "   #     job_number+=1\n"
   ]
  },
  {
   "cell_type": "code",
   "execution_count": 8,
   "metadata": {},
   "outputs": [
    {
     "name": "stdout",
     "output_type": "stream",
     "text": [
      "{'job_title': 'Materials Test Technician', 'job_location_city': 'Hawthorne', 'job_location_state': 'CA', 'job_location_country': 'United States', 'job_post_year': '2014'}\n"
     ]
    }
   ],
   "source": [
    "print(job_dict[0])"
   ]
  },
  {
   "cell_type": "code",
   "execution_count": 110,
   "metadata": {},
   "outputs": [],
   "source": [
    "# now, export it to an excel file\n",
    "\n",
    "df = pd.DataFrame.from_dict(job_dict).T\n",
    "df.to_excel('spacex_jobs_2014-2019.xlsx')"
   ]
  },
  {
   "cell_type": "code",
   "execution_count": null,
   "metadata": {},
   "outputs": [],
   "source": []
  }
 ],
 "metadata": {
  "kernelspec": {
   "display_name": "Python 3",
   "language": "python",
   "name": "python3"
  },
  "language_info": {
   "codemirror_mode": {
    "name": "ipython",
    "version": 3
   },
   "file_extension": ".py",
   "mimetype": "text/x-python",
   "name": "python",
   "nbconvert_exporter": "python",
   "pygments_lexer": "ipython3",
   "version": "3.6.5"
  }
 },
 "nbformat": 4,
 "nbformat_minor": 4
}
